{
 "cells": [
  {
   "cell_type": "code",
   "execution_count": 50,
   "metadata": {},
   "outputs": [],
   "source": [
    "import keras\n",
    "from keras.layers import Activation, Dense, Dropout, Conv2D, \\\n",
    "                         Flatten, MaxPooling2D\n",
    "from keras.models import Sequential\n",
    "import librosa\n",
    "import librosa.display\n",
    "import numpy as np\n",
    "import random\n"
   ]
  },
  {
   "cell_type": "code",
   "execution_count": 51,
   "metadata": {},
   "outputs": [
    {
     "data": {
      "text/plain": [
       "(128, 26)"
      ]
     },
     "execution_count": 51,
     "metadata": {},
     "output_type": "execute_result"
    },
    {
     "data": {
      "image/png": "[encoded data removed]",
      "text/plain": [
       "<Figure size 432x288 with 1 Axes>"
      ]
     },
     "metadata": {
      "needs_background": "light"
     },
     "output_type": "display_data"
    }
   ],
   "source": [
    "y1, sr1 = librosa.load('./Dataset/Clap/Clap67.wav')\n",
    "ps1 = librosa.feature.melspectrogram(y=y1, sr=sr1)\n",
    "librosa.display.specshow(ps1, y_axis='mel', x_axis='time')\n",
    "ps1.shape\n"
   ]
  },
  {
   "cell_type": "code",
   "execution_count": 52,
   "metadata": {},
   "outputs": [],
   "source": [
    "# Приведение всех сэмплов к одной длинне таким образом, чтобы размерность спектрограммы была 128х128\n",
    "D = []\n",
    "for i in range(1, 1219):\n",
    "    y, sr = librosa.load('./Dataset/Snare/Snare' + str(i) + '.wav')\n",
    "    ps = librosa.feature.melspectrogram(y=y, sr=sr)\n",
    "    D.append( (ps, 1) )\n"
   ]
  },
  {
   "cell_type": "code",
   "execution_count": 53,
   "metadata": {},
   "outputs": [],
   "source": [
    "Ys = []\n",
    "for i in range(1, 1219):\n",
    "    y1, sr1 = librosa.load('./Dataset/Kick/Kick' + str(i) + '.wav', duration = 2.97)\n",
    "    Ys.append((y1,sr1))"
   ]
  },
  {
   "cell_type": "code",
   "execution_count": 54,
   "metadata": {},
   "outputs": [],
   "source": [
    "for i in range(0, 1218):\n",
    "  Ys[i] = [np.pad(Ys[i][0], (0, 65489 - Ys[i][0].shape[0]), 'constant'), Ys[i][1]]"
   ]
  },
  {
   "cell_type": "code",
   "execution_count": 55,
   "metadata": {},
   "outputs": [],
   "source": [
    "D = []\n",
    "for i in range(0, 1218):   \n",
    "    ps = librosa.feature.melspectrogram(y=Ys[i][0], sr=Ys[i][1])\n",
    "    D.append((ps,1))"
   ]
  },
  {
   "cell_type": "code",
   "execution_count": 56,
   "metadata": {},
   "outputs": [],
   "source": [
    "Ys = []\n",
    "for i in range(1, 1362):\n",
    "    y1, sr1 = librosa.load('./Dataset/Snare/Snare' + str(i) + '.wav', duration = 2.97)\n",
    "    Ys.append((y1,sr1))\n",
    "    \n",
    "for i in range(0, 1361):\n",
    "  Ys[i] = [np.pad(Ys[i][0], (0, 65489 - Ys[i][0].shape[0]), 'constant'), Ys[i][1]]\n",
    "    \n",
    "for i in range(0, 1361):   \n",
    "  ps = librosa.feature.melspectrogram(y=Ys[i][0], sr=Ys[i][1])\n",
    "  D.append((ps,2))"
   ]
  },
  {
   "cell_type": "code",
   "execution_count": 57,
   "metadata": {},
   "outputs": [],
   "source": [
    "Ys = []\n",
    "for i in range(1, 583):\n",
    "    y1, sr1 = librosa.load('./Dataset/Clap/Clap' + str(i) + '.wav', duration = 2.97)\n",
    "    Ys.append((y1,sr1))\n",
    "    \n",
    "for i in range(0, 582):\n",
    "  Ys[i] = [np.pad(Ys[i][0], (0, 65489 - Ys[i][0].shape[0]), 'constant'), Ys[i][1]]\n",
    "    \n",
    "for i in range(0, 582):   \n",
    "  ps = librosa.feature.melspectrogram(y=Ys[i][0], sr=Ys[i][1])\n",
    "  D.append((ps,3))"
   ]
  },
  {
   "cell_type": "code",
   "execution_count": 58,
   "metadata": {},
   "outputs": [],
   "source": [
    "Ys = []\n",
    "for i in range(1, 815):\n",
    "    y1, sr1 = librosa.load('./Dataset/HH/HH' + str(i) + '.wav', duration = 2.97)\n",
    "    Ys.append((y1,sr1))\n",
    "    \n",
    "for i in range(0, 814):\n",
    "  Ys[i] = [np.pad(Ys[i][0], (0, 65489 - Ys[i][0].shape[0]), 'constant'), Ys[i][1]]\n",
    "    \n",
    "for i in range(0, 814):   \n",
    "  ps = librosa.feature.melspectrogram(y=Ys[i][0], sr=Ys[i][1])\n",
    "  D.append((ps,4))"
   ]
  },
  {
   "cell_type": "code",
   "execution_count": 59,
   "metadata": {},
   "outputs": [],
   "source": [
    "# Перемешивание датасета\n",
    "dataset = D\n",
    "random.shuffle(dataset)"
   ]
  },
  {
   "cell_type": "code",
   "execution_count": 60,
   "metadata": {},
   "outputs": [],
   "source": [
    "# Разделение тренировочной и контрольной выборки\n",
    "train = dataset[:3700]\n",
    "test = dataset[3700:]\n",
    "\n",
    "X_train, y_train = zip(*train)\n",
    "X_test, y_test = zip(*test)"
   ]
  },
  {
   "cell_type": "code",
   "execution_count": 61,
   "metadata": {},
   "outputs": [],
   "source": [
    "# Изменение размерности для входа СНН\n",
    "X_train = np.array([x.reshape( (128, 128, 1) ) for x in X_train])\n",
    "X_test = np.array([x.reshape( (128, 128, 1) ) for x in X_test])\n",
    "\n",
    "# Кастинг в категориальные признаки\n",
    "y_train = np.array(keras.utils.to_categorical(y_train, 5))\n",
    "y_test = np.array(keras.utils.to_categorical(y_test, 5))"
   ]
  },
  {
   "cell_type": "code",
   "execution_count": 62,
   "metadata": {},
   "outputs": [],
   "source": [
    "model = Sequential()\n",
    "input_shape=(128, 128, 1)\n",
    "\n",
    "model.add(Conv2D(24, (5, 5), strides=(1, 1), input_shape=input_shape))\n",
    "model.add(MaxPooling2D((4, 2), strides=(4, 2)))\n",
    "model.add(Activation('relu'))\n",
    "\n",
    "model.add(Conv2D(48, (5, 5), padding=\"valid\"))\n",
    "model.add(MaxPooling2D((4, 2), strides=(4, 2)))\n",
    "model.add(Activation('relu'))\n",
    "\n",
    "model.add(Conv2D(48, (5, 5), padding=\"valid\"))\n",
    "model.add(Activation('relu'))\n",
    "\n",
    "model.add(Flatten())\n",
    "model.add(Dropout(rate=0.5))\n",
    "\n",
    "model.add(Dense(64))\n",
    "model.add(Activation('relu'))\n",
    "model.add(Dropout(rate=0.5))\n",
    "\n",
    "model.add(Dense(5))\n",
    "model.add(Activation('softmax'))"
   ]
  },
  {
   "cell_type": "code",
   "execution_count": 63,
   "metadata": {},
   "outputs": [
    {
     "name": "stdout",
     "output_type": "stream",
     "text": [
      "Train on 3700 samples, validate on 275 samples\n",
      "Epoch 1/12\n",
      "3700/3700 [==============================] - 34s 9ms/step - loss: 0.9990 - acc: 0.6786 - val_loss: 0.5622 - val_acc: 0.8582\n",
      "Epoch 2/12\n",
      "3700/3700 [==============================] - 33s 9ms/step - loss: 0.6839 - acc: 0.7908 - val_loss: 0.4932 - val_acc: 0.8364\n",
      "Epoch 3/12\n",
      "3700/3700 [==============================] - 33s 9ms/step - loss: 0.5620 - acc: 0.8173 - val_loss: 0.4165 - val_acc: 0.8727\n",
      "Epoch 4/12\n",
      "3700/3700 [==============================] - 33s 9ms/step - loss: 0.5212 - acc: 0.8365 - val_loss: 0.4257 - val_acc: 0.8618\n",
      "Epoch 5/12\n",
      "3700/3700 [==============================] - 34s 9ms/step - loss: 0.4715 - acc: 0.8465 - val_loss: 0.3589 - val_acc: 0.8836\n",
      "Epoch 6/12\n",
      "3700/3700 [==============================] - 33s 9ms/step - loss: 0.4434 - acc: 0.8570 - val_loss: 0.3978 - val_acc: 0.8764\n",
      "Epoch 7/12\n",
      "3700/3700 [==============================] - 33s 9ms/step - loss: 0.4256 - acc: 0.8657 - val_loss: 0.3612 - val_acc: 0.9091\n",
      "Epoch 8/12\n",
      "3700/3700 [==============================] - 33s 9ms/step - loss: 0.4060 - acc: 0.8622 - val_loss: 0.3574 - val_acc: 0.8873\n",
      "Epoch 9/12\n",
      "3700/3700 [==============================] - 34s 9ms/step - loss: 0.3747 - acc: 0.8832 - val_loss: 0.3759 - val_acc: 0.8945\n",
      "Epoch 10/12\n",
      "3700/3700 [==============================] - 36s 10ms/step - loss: 0.3728 - acc: 0.8754 - val_loss: 0.3391 - val_acc: 0.9018\n",
      "Epoch 11/12\n",
      "3700/3700 [==============================] - 35s 9ms/step - loss: 0.3906 - acc: 0.8789 - val_loss: 0.3704 - val_acc: 0.8945\n",
      "Epoch 12/12\n",
      "3700/3700 [==============================] - 33s 9ms/step - loss: 0.3513 - acc: 0.8865 - val_loss: 0.3301 - val_acc: 0.8945\n",
      "275/275 [==============================] - 1s 4ms/step\n",
      "Test loss: 0.3300970832868056\n",
      "Test accuracy: 0.8945454545454545\n"
     ]
    }
   ],
   "source": [
    "model.compile(\n",
    "\toptimizer=\"Adam\",\n",
    "\tloss=\"categorical_crossentropy\",\n",
    "\tmetrics=['accuracy'])\n",
    "\n",
    "model.fit(\n",
    "\tx=X_train, \n",
    "\ty=y_train,\n",
    "    epochs=12,\n",
    "    batch_size=128,\n",
    "    validation_data= (X_test, y_test))\n",
    "\n",
    "score = model.evaluate(\n",
    "\tx=X_test,\n",
    "\ty=y_test)\n",
    "\n",
    "print('Test loss:', score[0])\n",
    "print('Test accuracy:', score[1])"
   ]
  },
  {
   "cell_type": "code",
   "execution_count": null,
   "metadata": {},
   "outputs": [],
   "source": []
  }
 ],
 "metadata": {
  "kernelspec": {
   "display_name": "Python 3",
   "language": "python",
   "name": "python3"
  },
  "language_info": {
   "codemirror_mode": {
    "name": "ipython",
    "version": 3
   },
   "file_extension": ".py",
   "mimetype": "text/x-python",
   "name": "python",
   "nbconvert_exporter": "python",
   "pygments_lexer": "ipython3",
   "version": "3.6.8"
  }
 },
 "nbformat": 4,
 "nbformat_minor": 2
}
