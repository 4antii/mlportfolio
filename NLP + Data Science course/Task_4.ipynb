{
 "cells": [
  {
   "cell_type": "markdown",
   "metadata": {},
   "source": [
    "# Линейная регрессия"
   ]
  },
  {
   "cell_type": "markdown",
   "metadata": {},
   "source": [
    "Данные содержатся в файле `data/lin_reg.txt`. Прочитать их можно следующим так:"
   ]
  },
  {
   "cell_type": "code",
   "execution_count": 80,
   "metadata": {},
   "outputs": [],
   "source": [
    "%matplotlib inline\n",
    "import tensorflow as tf\n",
    "import numpy as np\n",
    "import matplotlib\n",
    "from matplotlib import pyplot as plt\n",
    "import os \n",
    "os.environ['KMP_DUPLICATE_LIB_OK']='True'\n",
    "D = np.loadtxt('../data/lin_reg.txt', delimiter=',')\n",
    "X = D[:, :-1]\n",
    "Y = D[:, -1]\n"
   ]
  },
  {
   "cell_type": "markdown",
   "metadata": {},
   "source": [
    "При выполнении заданий **нельзя** пользоваться `scikit-learn` и т.п., только `NumPy`/`JAX`/`TF`/`PyTorch` и `matplotlib`/`seaborn`/`plotly`/etc.\n",
    "\n",
    "1. Нарисуйте график среднеквадратичной ошибки в зависимости от параметра регуляризации $\\alpha$, используя полные данные для обучения и для тестирования. \n",
    "2. Подготовьте исходные данные для 5 fold CV.\n",
    "3. С помощью CV найдите оптимальное значение $\\alpha$ на какой-нибудь сетке значений.\n",
    "4. Постройте валидационную кривую. \n",
    "5. Постройте кривую обучения."
   ]
  },
  {
   "cell_type": "code",
   "execution_count": 81,
   "metadata": {},
   "outputs": [],
   "source": [
    "X = np.c_[ np.ones(X.shape[0]), X ]"
   ]
  },
  {
   "cell_type": "code",
   "execution_count": 82,
   "metadata": {},
   "outputs": [],
   "source": [
    "class LinReg:\n",
    "    def __init__(self, alpha, size, lr=0.001):\n",
    "        self.theta = tf.Variable(tf.random.uniform([size], 0, 1, tf.double))\n",
    "        self.alpha = alpha\n",
    "        self.lr = lr\n",
    "        self.optimizer = tf.optimizers.SGD(self.lr)\n",
    "        \n",
    "    def mse(self, Y_real, Y_pred, alpha):\n",
    "        return tf.reduce_mean(tf.square(Y_real - Y_pred)) + alpha * tf.norm(self.theta)**2\n",
    "    \n",
    "    def predict(self, X):\n",
    "        return tf.linalg.matvec(X, self.theta)\n",
    "    \n",
    "    def run_optimization(self):\n",
    "        with tf.GradientTape() as g:\n",
    "            pred = self.predict(X)\n",
    "            loss = self.mse(Y,pred,self.alpha)\n",
    "\n",
    "            gradients = g.gradient(loss, [self.theta])\n",
    "        \n",
    "        # Update W and b following gradients.\n",
    "        self.optimizer.apply_gradients(zip(gradients, [self.theta]))\n",
    "\n",
    "    def train(self, X, Y, epochs=15):\n",
    "        for step in range(1, epochs + 1):\n",
    "    # Run the optimization to update W and b values.\n",
    "            self.run_optimization()\n",
    "            pred = self.predict(X)\n",
    "            loss = self.mse(Y, pred, self.alpha)\n",
    "        return loss "
   ]
  },
  {
   "cell_type": "code",
   "execution_count": 83,
   "metadata": {
    "tags": []
   },
   "outputs": [
    {
     "name": "stdout",
     "output_type": "stream",
     "text": [
      "alpha: 0.000000, loss: 98.668021\n",
      "alpha: 0.105263, loss: 104.834863\n",
      "alpha: 0.210526, loss: 109.584507\n",
      "alpha: 0.315789, loss: 115.279801\n",
      "alpha: 0.421053, loss: 121.238639\n",
      "alpha: 0.526316, loss: 127.037941\n",
      "alpha: 0.631579, loss: 133.170210\n",
      "alpha: 0.736842, loss: 139.089869\n",
      "alpha: 0.842105, loss: 145.549890\n",
      "alpha: 0.947368, loss: 150.722231\n",
      "alpha: 1.052632, loss: 156.752879\n",
      "alpha: 1.157895, loss: 162.472183\n",
      "alpha: 1.263158, loss: 168.724020\n",
      "alpha: 1.368421, loss: 174.361184\n",
      "alpha: 1.473684, loss: 180.846101\n",
      "alpha: 1.578947, loss: 186.274429\n",
      "alpha: 1.684211, loss: 191.438943\n",
      "alpha: 1.789474, loss: 197.331545\n",
      "alpha: 1.894737, loss: 202.945711\n",
      "alpha: 2.000000, loss: 209.225586\n"
     ]
    }
   ],
   "source": [
    "alphas = np.linspace(0, 2, 20)\n",
    "losses = []\n",
    "for alpha in alphas: \n",
    "    LR = LinReg(alpha, X.shape[1])\n",
    "    loss = LR.train(X,Y)\n",
    "    losses.append(loss.numpy())\n",
    "    print(\"alpha: %f, loss: %f\" % (alpha, loss))"
   ]
  },
  {
   "cell_type": "code",
   "execution_count": 84,
   "metadata": {},
   "outputs": [
    {
     "data": {
      "text/plain": [
       "[<matplotlib.lines.Line2D at 0x64b028750>]"
      ]
     },
     "execution_count": 84,
     "metadata": {},
     "output_type": "execute_result"
    },
    {
     "data": {
      "image/png": "[encoded data removed]",
      "text/plain": [
       "<Figure size 432x288 with 1 Axes>"
      ]
     },
     "metadata": {
      "needs_background": "light"
     },
     "output_type": "display_data"
    }
   ],
   "source": [
    "plt.plot(alphas, losses)"
   ]
  },
  {
   "cell_type": "code",
   "execution_count": 89,
   "metadata": {},
   "outputs": [],
   "source": [
    "def CV(folds=5):\n",
    "    alphas = np.linspace(0, 4, 20)\n",
    "    samples_in_fold = X.shape[0] // folds\n",
    "    train_losses = []\n",
    "    validation_losses = []\n",
    "    for alpha in alphas:\n",
    "        alpha_valid_losses = []\n",
    "        alpha_train_losees = []\n",
    "        for i in range(folds):\n",
    "            X_split = np.split(X,[2 * samples_in_fold, (2+1) * samples_in_fold])\n",
    "            Y_split = np.split(Y,[2 * samples_in_fold, (2+1) * samples_in_fold])\n",
    "            X_train = np.concatenate((X_split[0], X_split[2]))\n",
    "            Y_train = np.concatenate((Y_split[0], Y_split[2]))\n",
    "            X_test = X_split[1]\n",
    "            Y_test = Y_split[1]\n",
    "            LR = LinReg(alpha, X_train.shape[1])\n",
    "            train_loss = LR.train(X_train, Y_train)\n",
    "            validation_loss = LR.mse(LR.predict(X_test),Y_test,alpha)\n",
    "            print(\"alpha: %f, train_loss: %f, validation_loss: %f\" % (alpha, train_loss, validation_loss))\n",
    "            alpha_train_losees.append(train_loss)\n",
    "            alpha_valid_losses.append(validation_loss)\n",
    "        train_losses.append(np.mean(alpha_train_losees))\n",
    "        validation_losses.append(np.mean(alpha_valid_losses))\n",
    "    return (alphas, train_losses, validation_losses)"
   ]
  },
  {
   "cell_type": "code",
   "execution_count": 90,
   "metadata": {},
   "outputs": [
    {
     "name": "stdout",
     "output_type": "stream",
     "text": [
      "alpha: 0.000000, train_loss: 97.049233, validation_loss: 102.363728\n",
      "alpha: 0.000000, train_loss: 98.196545, validation_loss: 102.529561\n",
      "alpha: 0.000000, train_loss: 96.669696, validation_loss: 101.657731\n",
      "alpha: 0.000000, train_loss: 97.336386, validation_loss: 102.694205\n",
      "alpha: 0.000000, train_loss: 97.411968, validation_loss: 102.495001\n",
      "alpha: 0.210526, train_loss: 109.670638, validation_loss: 114.702867\n",
      "alpha: 0.210526, train_loss: 108.801219, validation_loss: 114.373271\n",
      "alpha: 0.210526, train_loss: 109.671847, validation_loss: 114.635527\n",
      "alpha: 0.210526, train_loss: 108.871848, validation_loss: 114.755562\n",
      "alpha: 0.210526, train_loss: 108.528042, validation_loss: 114.104031\n",
      "alpha: 0.421053, train_loss: 120.694708, validation_loss: 126.939138\n",
      "alpha: 0.421053, train_loss: 121.002329, validation_loss: 126.714257\n",
      "alpha: 0.421053, train_loss: 120.534574, validation_loss: 127.021263\n",
      "alpha: 0.421053, train_loss: 120.519743, validation_loss: 125.674336\n",
      "alpha: 0.421053, train_loss: 120.130804, validation_loss: 126.615613\n",
      "alpha: 0.631579, train_loss: 132.974793, validation_loss: 138.827550\n",
      "alpha: 0.631579, train_loss: 133.005722, validation_loss: 138.732538\n",
      "alpha: 0.631579, train_loss: 131.963114, validation_loss: 138.928779\n",
      "alpha: 0.631579, train_loss: 132.029722, validation_loss: 138.684796\n",
      "alpha: 0.631579, train_loss: 131.769419, validation_loss: 138.909360\n",
      "alpha: 0.842105, train_loss: 144.299319, validation_loss: 150.652225\n",
      "alpha: 0.842105, train_loss: 144.015392, validation_loss: 149.984848\n",
      "alpha: 0.842105, train_loss: 143.581838, validation_loss: 149.847207\n",
      "alpha: 0.842105, train_loss: 143.690932, validation_loss: 150.294962\n",
      "alpha: 0.842105, train_loss: 143.422464, validation_loss: 150.679879\n",
      "alpha: 1.052632, train_loss: 155.982940, validation_loss: 163.499598\n",
      "alpha: 1.052632, train_loss: 155.343434, validation_loss: 162.561603\n",
      "alpha: 1.052632, train_loss: 155.228291, validation_loss: 162.693157\n",
      "alpha: 1.052632, train_loss: 155.796222, validation_loss: 162.624159\n",
      "alpha: 1.052632, train_loss: 156.104218, validation_loss: 163.568238\n",
      "alpha: 1.263158, train_loss: 167.298288, validation_loss: 174.673161\n",
      "alpha: 1.263158, train_loss: 166.749360, validation_loss: 174.069056\n",
      "alpha: 1.263158, train_loss: 167.269908, validation_loss: 175.658223\n",
      "alpha: 1.263158, train_loss: 166.798234, validation_loss: 174.699367\n",
      "alpha: 1.263158, train_loss: 167.672752, validation_loss: 176.009022\n",
      "alpha: 1.473684, train_loss: 178.854781, validation_loss: 186.098308\n",
      "alpha: 1.473684, train_loss: 178.491857, validation_loss: 186.030104\n",
      "alpha: 1.473684, train_loss: 178.086431, validation_loss: 186.037956\n",
      "alpha: 1.473684, train_loss: 178.419528, validation_loss: 185.975909\n",
      "alpha: 1.473684, train_loss: 179.513420, validation_loss: 188.162511\n",
      "alpha: 1.684211, train_loss: 190.104325, validation_loss: 197.663630\n",
      "alpha: 1.684211, train_loss: 189.995729, validation_loss: 197.646207\n",
      "alpha: 1.684211, train_loss: 189.626191, validation_loss: 197.797831\n",
      "alpha: 1.684211, train_loss: 190.602602, validation_loss: 198.188941\n",
      "alpha: 1.684211, train_loss: 189.815658, validation_loss: 198.675263\n",
      "alpha: 1.894737, train_loss: 201.069416, validation_loss: 209.969898\n",
      "alpha: 1.894737, train_loss: 201.653890, validation_loss: 210.993940\n",
      "alpha: 1.894737, train_loss: 201.143774, validation_loss: 209.847631\n",
      "alpha: 1.894737, train_loss: 201.758081, validation_loss: 211.498626\n",
      "alpha: 1.894737, train_loss: 201.545427, validation_loss: 209.352160\n",
      "alpha: 2.105263, train_loss: 213.107704, validation_loss: 223.086417\n",
      "alpha: 2.105263, train_loss: 212.417042, validation_loss: 221.418592\n",
      "alpha: 2.105263, train_loss: 213.580171, validation_loss: 223.876348\n",
      "alpha: 2.105263, train_loss: 212.352377, validation_loss: 221.205356\n",
      "alpha: 2.105263, train_loss: 212.562816, validation_loss: 222.031082\n",
      "alpha: 2.315789, train_loss: 223.840576, validation_loss: 233.076138\n",
      "alpha: 2.315789, train_loss: 224.040970, validation_loss: 234.032280\n",
      "alpha: 2.315789, train_loss: 224.120042, validation_loss: 234.174752\n",
      "alpha: 2.315789, train_loss: 223.981645, validation_loss: 233.242653\n",
      "alpha: 2.315789, train_loss: 223.744716, validation_loss: 233.253726\n",
      "alpha: 2.526316, train_loss: 235.035047, validation_loss: 244.837779\n",
      "alpha: 2.526316, train_loss: 236.066627, validation_loss: 246.932600\n",
      "alpha: 2.526316, train_loss: 235.256302, validation_loss: 244.202792\n",
      "alpha: 2.526316, train_loss: 235.299891, validation_loss: 244.445458\n",
      "alpha: 2.526316, train_loss: 235.041124, validation_loss: 244.382580\n",
      "alpha: 2.736842, train_loss: 247.721927, validation_loss: 259.080887\n",
      "alpha: 2.736842, train_loss: 247.547015, validation_loss: 258.929741\n",
      "alpha: 2.736842, train_loss: 247.366375, validation_loss: 256.971179\n",
      "alpha: 2.736842, train_loss: 246.386893, validation_loss: 256.654917\n",
      "alpha: 2.736842, train_loss: 246.298736, validation_loss: 256.319877\n",
      "alpha: 2.947368, train_loss: 257.877196, validation_loss: 268.649395\n",
      "alpha: 2.947368, train_loss: 257.727058, validation_loss: 267.800784\n",
      "alpha: 2.947368, train_loss: 259.000786, validation_loss: 270.842044\n",
      "alpha: 2.947368, train_loss: 258.035318, validation_loss: 268.699502\n",
      "alpha: 2.947368, train_loss: 257.861380, validation_loss: 267.958534\n",
      "alpha: 3.157895, train_loss: 269.427643, validation_loss: 280.032428\n",
      "alpha: 3.157895, train_loss: 270.563229, validation_loss: 282.876346\n",
      "alpha: 3.157895, train_loss: 269.142475, validation_loss: 279.752879\n",
      "alpha: 3.157895, train_loss: 269.342756, validation_loss: 279.707490\n",
      "alpha: 3.157895, train_loss: 269.656411, validation_loss: 281.594089\n",
      "alpha: 3.368421, train_loss: 280.091735, validation_loss: 290.489095\n",
      "alpha: 3.368421, train_loss: 280.019375, validation_loss: 291.404293\n",
      "alpha: 3.368421, train_loss: 280.513010, validation_loss: 291.039736\n",
      "alpha: 3.368421, train_loss: 280.761932, validation_loss: 292.148055\n",
      "alpha: 3.368421, train_loss: 279.964526, validation_loss: 290.640230\n",
      "alpha: 3.578947, train_loss: 291.295284, validation_loss: 302.412364\n",
      "alpha: 3.578947, train_loss: 291.375170, validation_loss: 303.306152\n",
      "alpha: 3.578947, train_loss: 291.259562, validation_loss: 302.901568\n",
      "alpha: 3.578947, train_loss: 291.161200, validation_loss: 301.965434\n",
      "alpha: 3.578947, train_loss: 292.801103, validation_loss: 305.393292\n",
      "alpha: 3.789474, train_loss: 303.197114, validation_loss: 315.743863\n",
      "alpha: 3.789474, train_loss: 302.305655, validation_loss: 313.932692\n",
      "alpha: 3.789474, train_loss: 303.571647, validation_loss: 316.871593\n",
      "alpha: 3.789474, train_loss: 302.564994, validation_loss: 315.064725\n",
      "alpha: 3.789474, train_loss: 303.231767, validation_loss: 316.117356\n",
      "alpha: 4.000000, train_loss: 314.375979, validation_loss: 327.696906\n",
      "alpha: 4.000000, train_loss: 313.645189, validation_loss: 325.947244\n",
      "alpha: 4.000000, train_loss: 314.660501, validation_loss: 327.531323\n",
      "alpha: 4.000000, train_loss: 313.586994, validation_loss: 325.223494\n",
      "alpha: 4.000000, train_loss: 313.309288, validation_loss: 325.378504\n"
     ]
    }
   ],
   "source": [
    "CV_loss = CV(5)"
   ]
  },
  {
   "cell_type": "code",
   "execution_count": 94,
   "metadata": {},
   "outputs": [
    {
     "data": {
      "image/png": "[encoded data removed]",
      "text/plain": [
       "<Figure size 432x288 with 1 Axes>"
      ]
     },
     "metadata": {
      "needs_background": "light"
     },
     "output_type": "display_data"
    }
   ],
   "source": [
    "plt.plot(CV_loss[0],CV_loss[1])\n",
    "plt.plot(CV_loss[0],CV_loss[2])\n",
    "plt.show()"
   ]
  },
  {
   "cell_type": "code",
   "execution_count": 97,
   "metadata": {},
   "outputs": [
    {
     "name": "stdout",
     "output_type": "stream",
     "text": [
      "Optimal alpha: 0.0 loss: 102.3480448552462\n"
     ]
    }
   ],
   "source": [
    "min_valid_loss_ind = np.argmin(CV_loss[2])\n",
    "print ('Optimal alpha:',CV_loss[0][min_valid_loss_ind], 'loss:', CV_loss[2][min_valid_loss_ind])"
   ]
  },
  {
   "cell_type": "code",
   "execution_count": null,
   "metadata": {},
   "outputs": [],
   "source": []
  }
 ],
 "metadata": {
  "kernelspec": {
   "display_name": "Python 3",
   "language": "python",
   "name": "python3"
  },
  "language_info": {
   "codemirror_mode": {
    "name": "ipython",
    "version": 3
   },
   "file_extension": ".py",
   "mimetype": "text/x-python",
   "name": "python",
   "nbconvert_exporter": "python",
   "pygments_lexer": "ipython3",
   "version": "3.7.6"
  }
 },
 "nbformat": 4,
 "nbformat_minor": 4
}
