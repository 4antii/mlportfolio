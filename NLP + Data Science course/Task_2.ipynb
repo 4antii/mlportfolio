{
 "cells": [
  {
   "cell_type": "code",
   "execution_count": 2,
   "metadata": {},
   "outputs": [],
   "source": [
    "import numpy as np\n",
    "import scipy as sp\n",
    "import matplotlib.pyplot as plt\n",
    "import seaborn as sns\n",
    "\n",
    "%matplotlib inline"
   ]
  },
  {
   "cell_type": "markdown",
   "metadata": {},
   "source": [
    "# 1. Работа с массивами NumPy"
   ]
  },
  {
   "cell_type": "markdown",
   "metadata": {},
   "source": [
    "**N. Все упражнения ниже нужно делать без использования циклов Python**\n",
    "\n",
    "**1.** Cоздать вектор\n",
    "\n",
    "$$(2, \\frac{2^2}{2}, \\ldots, \\frac{2^{20}}{20})$$\n",
    "\n",
    "Можно использовать функции [np.arange()](http://docs.scipy.org/doc/numpy/reference/generated/numpy.arange.html), [np.ones()](http://docs.scipy.org/doc/numpy/reference/generated/numpy.ones.html)"
   ]
  },
  {
   "cell_type": "code",
   "execution_count": 9,
   "metadata": {},
   "outputs": [
    {
     "output_type": "execute_result",
     "data": {
      "text/plain": [
       "array([2.00000000e+00, 2.00000000e+00, 2.66666667e+00, 4.00000000e+00,\n",
       "       6.40000000e+00, 1.06666667e+01, 1.82857143e+01, 3.20000000e+01,\n",
       "       5.68888889e+01, 1.02400000e+02, 1.86181818e+02, 3.41333333e+02,\n",
       "       6.30153846e+02, 1.17028571e+03, 2.18453333e+03, 4.09600000e+03,\n",
       "       7.71011765e+03, 1.45635556e+04, 2.75941053e+04, 5.24288000e+04])"
      ]
     },
     "metadata": {},
     "execution_count": 9
    }
   ],
   "source": [
    "(np.ones(20) * 2) ** np.arange(1,21) / np.arange(1,21)"
   ]
  },
  {
   "cell_type": "markdown",
   "metadata": {},
   "source": [
    "**2.** Посчитать:\n",
    "\n",
    "$$\\sum\\limits_{i=0}^{5}{0.1^{3i}0.2^{4i}}$$\n"
   ]
  },
  {
   "cell_type": "code",
   "execution_count": 13,
   "metadata": {},
   "outputs": [
    {
     "output_type": "execute_result",
     "data": {
      "text/plain": [
       "1.00000160000256"
      ]
     },
     "metadata": {},
     "execution_count": 13
    }
   ],
   "source": [
    "np.dot((np.ones(6) * 0.1) ** (3 * np.arange(6)), (np.ones(6) * 0.2) ** (4 * np.arange(6)))"
   ]
  },
  {
   "cell_type": "markdown",
   "metadata": {},
   "source": [
    "**3.** Создать нулевую матрицe $8 \\times 8$, и заполнить её единицами в шахматном порядке."
   ]
  },
  {
   "cell_type": "code",
   "execution_count": 20,
   "metadata": {},
   "outputs": [
    {
     "output_type": "stream",
     "name": "stdout",
     "text": [
      "[[1. 0. 1. 0. 1. 0. 1. 0.]\n [0. 1. 0. 1. 0. 1. 0. 1.]\n [1. 0. 1. 0. 1. 0. 1. 0.]\n [0. 1. 0. 1. 0. 1. 0. 1.]\n [1. 0. 1. 0. 1. 0. 1. 0.]\n [0. 1. 0. 1. 0. 1. 0. 1.]\n [1. 0. 1. 0. 1. 0. 1. 0.]\n [0. 1. 0. 1. 0. 1. 0. 1.]]\n"
     ]
    }
   ],
   "source": [
    "m = np.zeros([8,8])\n",
    "m[::2, ::2] = 1\n",
    "m[1::2, 1::2] = 1\n",
    "print(m)"
   ]
  },
  {
   "cell_type": "markdown",
   "metadata": {},
   "source": [
    "**4.** Есть 5 точек в декартовой системе координат (в виде матрицы $X$ размерностью $5 \\times 2$), сконвертируйте эти точки в полярную систему координат."
   ]
  },
  {
   "cell_type": "code",
   "execution_count": 42,
   "metadata": {},
   "outputs": [
    {
     "output_type": "stream",
     "name": "stdout",
     "text": [
      "[[0.29710996 0.2599421 ]\n [0.38629162 0.51606338]\n [0.10246204 0.02879899]\n [0.91825897 0.22785208]\n [0.07755491 0.95111735]]\n[[0.39477111 0.71877451]\n [0.64462596 0.92823333]\n [0.10643238 0.27400053]\n [0.94610576 0.24322248]\n [0.95427405 1.48943549]]\n"
     ]
    }
   ],
   "source": [
    "X = np.random.random((5, 2))\n",
    "P_X[:,0] = np.sqrt(X[:,0] ** 2 + X[:,1] ** 2) \n",
    "P_X[:,1] = np.arctan(X[:,1]/ X[:,0]) \n",
    "print(X)\n",
    "print(P_X)"
   ]
  },
  {
   "cell_type": "markdown",
   "metadata": {},
   "source": [
    "**5.** Найдите индексы максимального элемента в случайной матрице $10 \\times 10$.\n",
    "\n",
    "Cм. [np.argmax()](http://docs.scipy.org/doc/numpy/reference/generated/numpy.argmax.html)."
   ]
  },
  {
   "cell_type": "code",
   "execution_count": 52,
   "metadata": {},
   "outputs": [
    {
     "output_type": "stream",
     "name": "stdout",
     "text": [
      "[[0.03400175 0.09813005 0.43531931 0.7450793  0.11706674 0.65910058\n  0.15524208 0.70806226 0.15332739 0.29210493]\n [0.73404342 0.85592789 0.72641076 0.0164517  0.64562372 0.6150805\n  0.40815514 0.74014085 0.11470769 0.23431699]\n [0.06034155 0.47942675 0.24467017 0.67258241 0.38125101 0.00233034\n  0.33631274 0.42698085 0.38718237 0.2941634 ]\n [0.68043918 0.17067777 0.32171464 0.38586128 0.53352046 0.68242188\n  0.30779251 0.95758603 0.16103149 0.80169709]\n [0.41510461 0.67638345 0.51672048 0.3602231  0.17454196 0.61311159\n  0.37677102 0.79998929 0.87450764 0.56940578]\n [0.83068451 0.48017141 0.8114601  0.91738437 0.51737532 0.05200419\n  0.31678122 0.41171678 0.82877779 0.69478034]\n [0.83806933 0.38863436 0.46461139 0.00794083 0.31482378 0.30843386\n  0.44296112 0.39962437 0.1328513  0.05228689]\n [0.67120007 0.67409583 0.93634729 0.97732839 0.55002977 0.32303355\n  0.96285642 0.1212933  0.38804145 0.27983498]\n [0.54730028 0.66199996 0.3823333  0.54031156 0.73718395 0.85148851\n  0.29616205 0.08558897 0.03611917 0.90363799]\n [0.52032004 0.06477913 0.13190321 0.45888613 0.76160124 0.34122774\n  0.54799456 0.56919278 0.9341853  0.73061802]]\n(7, 3)\n"
     ]
    }
   ],
   "source": [
    "X = np.random.random((10, 10))\n",
    "print(X)\n",
    "print(np.unravel_index(np.argmax(X, axis=None), X.shape))"
   ]
  },
  {
   "cell_type": "markdown",
   "metadata": {},
   "source": [
    "**6.** Есть 10 точек ($X$) и ещё одна ($y$). Найти в $X$ ближайшую к $y$ точку."
   ]
  },
  {
   "cell_type": "code",
   "execution_count": 61,
   "metadata": {},
   "outputs": [
    {
     "output_type": "stream",
     "name": "stdout",
     "text": [
      "[[0.7121407  0.23866141]\n [0.74537998 0.80568765]\n [0.84414477 0.56461358]\n [0.67356982 0.53180229]\n [0.35538348 0.88625974]\n [0.57112144 0.22040926]\n [0.30931441 0.77842411]\n [0.45257044 0.99985874]\n [0.7167233  0.73585938]\n [0.21374926 0.98069935]]\n[[0.14460429 0.37239444]]\n[0.3399821  0.54867443 0.52630508 0.30521539 0.30848541 0.20501637\n 0.19198951 0.48855459 0.45942692 0.37481589] 6\n"
     ]
    }
   ],
   "source": [
    "X = np.random.random((10, 2))\n",
    "y = np.random.random((1, 2))\n",
    "print(X)\n",
    "print(y)\n",
    "R = (X[:, 0] - y[0,0])**2 + (X[:, 1] - y[0,1])**2\n",
    "print(R, np.argmin(R))"
   ]
  },
  {
   "cell_type": "markdown",
   "metadata": {},
   "source": [
    "**7.** Дана функция:\n",
    "\n",
    "$$\n",
    " \\begin{cases}\n",
    "    x^2 + 2x + 6, & x < 0  \\\\\n",
    "    x + 6, & 0 \\le x \\le 2 \\\\\n",
    "    x^2 + 4x - 4, & x \\ge 2\n",
    " \\end{cases}\n",
    "$$\n",
    "\n",
    "Постройте массив из её значений на  $-3 \\le x \\le 3$."
   ]
  },
  {
   "cell_type": "code",
   "execution_count": 71,
   "metadata": {},
   "outputs": [
    {
     "output_type": "stream",
     "name": "stdout",
     "text": [
      "[ 9.          8.61        8.24        7.89        7.56        7.25\n  6.96        6.69        6.44        6.21        6.          5.81\n  5.64        5.49        5.36        5.25        5.16        5.09\n  5.04        5.01        5.          5.01        5.04        5.09\n  5.16        5.25        5.36        5.49        5.64        5.81\n  6.          6.1         6.2         6.3         6.4         6.5\n  6.6         6.7         6.8         6.9         7.          7.1\n  7.2         7.3         7.4         7.5         7.6         7.7\n  7.8         7.9         8.          8.90123457  9.82716049 10.77777778\n 11.75308642 12.75308642 13.77777778 14.82716049 15.90123457 17.        ]\n"
     ]
    }
   ],
   "source": [
    "top = np.linspace(-3, 0, 30, endpoint = False) ** 2 + np.linspace(-3, 0, 30, endpoint = False) * 2 + 6\n",
    "mid = np.linspace(0, 2, 20, endpoint = False) + 6\n",
    "bot = np.linspace(2, 3, 10, endpoint = True) ** 2 + np.linspace(2, 3, 10, endpoint = True) * 4 - 4\n",
    "print(np.concatenate((top,mid,bot)))"
   ]
  },
  {
   "cell_type": "markdown",
   "metadata": {},
   "source": [
    "**8.** Из каждого элемента матрицы вычесть среднее арифметическое от всех элементов в соответствующей строке (после чего среднее значение каждой строки должно равняться нулю).\n",
    "\n",
    "Cм. [np.mean()](http://docs.scipy.org/doc/numpy/reference/generated/numpy.mean.html)."
   ]
  },
  {
   "cell_type": "code",
   "execution_count": 92,
   "metadata": {},
   "outputs": [
    {
     "output_type": "stream",
     "name": "stdout",
     "text": [
      "[ 4.44089210e-17 -1.11022302e-17 -1.11022302e-17 -1.11022302e-17\n  1.22124533e-16 -2.22044605e-17  4.44089210e-17  3.33066907e-17\n  0.00000000e+00 -2.22044605e-17]\n"
     ]
    }
   ],
   "source": [
    "X = np.random.random((10, 10))\n",
    "X = X.T - np.mean(X, axis = 1).T\n",
    "X = X.T\n",
    "print(np.mean(X, axis = 1))"
   ]
  },
  {
   "cell_type": "markdown",
   "metadata": {},
   "source": [
    "**9.** Есть массив из 1000 чисел, полученных из генератора случайных чисел, имеющий нормальное распределение. Посчитайте выборочное среднее и выборочную дисперсию. "
   ]
  },
  {
   "cell_type": "code",
   "execution_count": 111,
   "metadata": {},
   "outputs": [
    {
     "output_type": "stream",
     "name": "stdout",
     "text": [
      "5.069837477576283 4.368334898482252\n"
     ]
    }
   ],
   "source": [
    "X = np.random.normal(loc=5, scale=2., size=1000)\n",
    "Mean = np.mean(X)\n",
    "Disp = np.sum((X - np.mean(X))**2) / 1000\n",
    "print(Mean, Disp)\n"
   ]
  },
  {
   "cell_type": "markdown",
   "metadata": {},
   "source": [
    "**10.** Создать матрицу:\n",
    "\n",
    "$$\n",
    "\\begin{pmatrix}\n",
    "0 & 1 & 2 & 3 & 4 \\\\\n",
    "1 & 2 & 3 & 4 & 0 \\\\\n",
    "2 & 3 & 4 & 0 & 1 \\\\\n",
    "3 & 4 & 0 & 1 & 2 \\\\\n",
    "4 & 0 & 1 & 2 & 3\n",
    "\\end{pmatrix}\n",
    "$$"
   ]
  },
  {
   "source": [
    "m = np.arange(5) \n",
    "np.array([m, np.concatenate((m[1:],m[:1])),np.concatenate((m[2:],m[:2])),np.concatenate((m[3:],m[:3])),np.concatenate((m[4:],m[:4]))])\n",
    "\n",
    "## your code"
   ],
   "cell_type": "code",
   "metadata": {},
   "execution_count": 135,
   "outputs": [
    {
     "output_type": "execute_result",
     "data": {
      "text/plain": [
       "array([[0, 1, 2, 3, 4],\n",
       "       [1, 2, 3, 4, 0],\n",
       "       [2, 3, 4, 0, 1],\n",
       "       [3, 4, 0, 1, 2],\n",
       "       [4, 0, 1, 2, 3]])"
      ]
     },
     "metadata": {},
     "execution_count": 135
    }
   ]
  },
  {
   "cell_type": "markdown",
   "metadata": {},
   "source": [
    "**11.** Есть следующий алгоритм семплинирования, на вход функции подается вектор из целых положительных чисел и число семплов."
   ]
  },
  {
   "cell_type": "code",
   "execution_count": 34,
   "metadata": {},
   "outputs": [
    {
     "output_type": "execute_result",
     "data": {
      "text/plain": [
       "[0, 1, 3, 0, 0]"
      ]
     },
     "metadata": {},
     "execution_count": 34
    }
   ],
   "source": [
    "def sample(x, c):\n",
    "    assert len(x) > 0\n",
    "    \n",
    "    s = np.sum(x)\n",
    "    res = []\n",
    "    for _ in range(c):\n",
    "        val = s * np.random.random()\n",
    "        cur, idx = 0, 0        \n",
    "        while cur + x[idx] <= val:\n",
    "            cur += x[idx]\n",
    "            idx += 1\n",
    "            \n",
    "        res.append(idx)\n",
    "    return res\n",
    "\n",
    "            \n",
    "sample([50, 3, 1, 7, 20], 5)    "
   ]
  },
  {
   "cell_type": "markdown",
   "metadata": {},
   "source": [
    "Реализуйте данный алгоритм более оптимальным способом, без использования циклов."
   ]
  },
  {
   "cell_type": "code",
   "execution_count": 35,
   "metadata": {},
   "outputs": [
    {
     "output_type": "execute_result",
     "data": {
      "text/plain": [
       "array([4, 0, 4, 0, 3])"
      ]
     },
     "metadata": {},
     "execution_count": 35
    }
   ],
   "source": [
    "## your code\n",
    "def sample_opt(x,c):\n",
    "    assert len(x) > 0\n",
    "    s = np.sum(x)\n",
    "    val = s * np.random.random(c)\n",
    "    cs = np.repeat(np.cumsum(x), c).reshape((len(x), c)) - val.T\n",
    "    cs[cs >= 0] = 0\n",
    "    return np.argmax(cs, axis=0)\n",
    "\n",
    "\n",
    "sample_opt([50, 3, 1, 7, 20], 5)     "
   ]
  }
 ],
 "metadata": {
  "kernelspec": {
   "display_name": "Python 3",
   "language": "python",
   "name": "python3"
  },
  "language_info": {
   "codemirror_mode": {
    "name": "ipython",
    "version": 3
   },
   "file_extension": ".py",
   "mimetype": "text/x-python",
   "name": "python",
   "nbconvert_exporter": "python",
   "pygments_lexer": "ipython3",
   "version": "3.7.6-final"
  }
 },
 "nbformat": 4,
 "nbformat_minor": 4
}