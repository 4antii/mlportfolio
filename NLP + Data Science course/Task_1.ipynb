{
 "cells": [
  {
   "cell_type": "markdown",
   "metadata": {},
   "source": [
    "# Задание 1\n",
    "\n",
    "[Свертка списка](https://ru.wikipedia.org/wiki/%D0%A1%D0%B2%D1%91%D1%80%D1%82%D0%BA%D0%B0_%D1%81%D0%BF%D0%B8%D1%81%D0%BA%D0%B0) -  это обобщенная операция над списком, c помощью которой можно преобразовать список в единое значение. Например, рассмотрим реализации свертки слева и свертки справа (левоассоциативную свертку и правоассоциативную свертку):"
   ]
  },
  {
   "cell_type": "code",
   "execution_count": 19,
   "metadata": {
    "collapsed": true,
    "jupyter": {
     "outputs_hidden": true
    }
   },
   "outputs": [],
   "source": [
    "def foldl(f, x0, lst):\n",
    "    if not lst:\n",
    "        return x0\n",
    "    return foldl(f, f(x0, lst[0]), lst[1:])\n",
    "\n",
    "def foldr(f, x0, lst):\n",
    "    if not lst:\n",
    "        return x0\n",
    "    return f(lst[0], foldr(f, x0, lst[1:]))"
   ]
  },
  {
   "cell_type": "code",
   "execution_count": 20,
   "metadata": {},
   "outputs": [
    {
     "output_type": "execute_result",
     "data": {
      "text/plain": [
       "6"
      ]
     },
     "metadata": {},
     "execution_count": 20
    }
   ],
   "source": [
    "#сумма\n",
    "foldl(lambda x, y: x + y, 0, [1, 2, 3])"
   ]
  },
  {
   "cell_type": "code",
   "execution_count": 21,
   "metadata": {},
   "outputs": [
    {
     "output_type": "execute_result",
     "data": {
      "text/plain": [
       "'123'"
      ]
     },
     "metadata": {},
     "execution_count": 21
    }
   ],
   "source": [
    "#конкатенация\n",
    "foldl(lambda x, y: '{}{}'.format(x, y), '', [1, 2, 3])"
   ]
  },
  {
   "cell_type": "code",
   "execution_count": 22,
   "metadata": {},
   "outputs": [
    {
     "output_type": "execute_result",
     "data": {
      "text/plain": [
       "(0.16666666666666666, 1.5)"
      ]
     },
     "metadata": {},
     "execution_count": 22
    }
   ],
   "source": [
    "f = lambda x, y: x / y\n",
    "foldl(f, 1, [1, 2, 3]), \\\n",
    "foldr(f, 1, [1, 2, 3])"
   ]
  },
  {
   "cell_type": "markdown",
   "metadata": {},
   "source": [
    "Задача: реализовать foldl через foldr и наоборот. Вместо многоточий нужно вставить выражения, которые бы привели к нужному результату. Модифицировать сам список нельзя. "
   ]
  },
  {
   "cell_type": "code",
   "execution_count": 23,
   "metadata": {
    "collapsed": true,
    "jupyter": {
     "outputs_hidden": true
    }
   },
   "outputs": [],
   "source": [
    "def foldl2(f, x0, lst):\n",
    "    return foldr(lambda val, acc: lambda n: acc(f(n, val)), lambda x: x, lst)(x0)"
   ]
  },
  {
   "cell_type": "code",
   "execution_count": 24,
   "metadata": {
    "collapsed": true,
    "jupyter": {
     "outputs_hidden": true
    }
   },
   "outputs": [],
   "source": [
    "def foldr2(f, x0, lst):\n",
    "    return foldl(lambda acc, val: lambda n: acc(f(val, n)), lambda x: x, lst)(x0)"
   ]
  },
  {
   "cell_type": "code",
   "execution_count": 25,
   "metadata": {},
   "outputs": [
    {
     "output_type": "execute_result",
     "data": {
      "text/plain": [
       "(0.16666666666666666, 1.5)"
      ]
     },
     "metadata": {},
     "execution_count": 25
    }
   ],
   "source": [
    "f = lambda x, y: x / y\n",
    "foldl2(f, 1, [1, 2, 3]), \\\n",
    "foldr2(f, 1, [1, 2, 3])"
   ]
  },
  {
   "cell_type": "markdown",
   "metadata": {},
   "source": [
    "# Задание 2\n",
    "\n",
    "нужно написать функцию, которая принимает две строки и проверяет, входит ли хотя бы одна перестановка второй строки в первую. Например:\n",
    "\n",
    "> a = 'abcrotm'\n",
    "> \n",
    "> b = 'tro'\n",
    "\n",
    "функция def check_inv(a, b) вернет True, так как 'rot' содержится в 'abcrotm'. Нужно подумать как можно более оптимальный алгоритм и оценить его сложность. "
   ]
  },
  {
   "cell_type": "code",
   "execution_count": 26,
   "metadata": {
    "collapsed": true,
    "jupyter": {
     "outputs_hidden": true
    }
   },
   "outputs": [
    {
     "output_type": "execute_result",
     "data": {
      "text/plain": [
       "True"
      ]
     },
     "metadata": {},
     "execution_count": 26
    }
   ],
   "source": [
    "import string\n",
    "\n",
    "def check_inv(a, b):\n",
    "    b_dict = dict.fromkeys(string.ascii_letters, 0)\n",
    "    a_dict = dict.fromkeys(string.ascii_letters,0)\n",
    "    for char in b: \n",
    "        b_dict[char] += 1\n",
    "    for char in a[:len(b)]: \n",
    "        a_dict[char] += 1\n",
    "    for i in range(len(b), len(a)):\n",
    "        a_dict[a[i]] += 1\n",
    "        a_dict[a[i - len(b)]] -= 1\n",
    "        if(a_dict == b_dict):\n",
    "            return True\n",
    "    return False\n",
    "\n",
    "check_inv('abcrotm', 'tro')"
   ]
  },
  {
   "source": [
    "##### Для словарей: \n",
    "##### Получение элемента: O(1).\n",
    "##### Установка элемента: O(1).\n",
    "##### Удаление элемента: O(1).\n",
    "##### Проверка на равенство словарей O(1) (от константы которая зависит от длинны алфавита)\n",
    "##### Учитывая цикл получаем сложность O(n)\n",
    "где n = len(a)\n",
    "\n",
    "\n",
    "\n",
    " "
   ],
   "cell_type": "markdown",
   "metadata": {}
  },
  {
   "cell_type": "markdown",
   "metadata": {},
   "source": [
    "# Задание 3\n",
    "\n",
    "Реализовать бинарное дерево (класс Tree), в нём методы __repr__, __str__, __iter__ (итерация только по листьям)."
   ]
  },
  {
   "cell_type": "code",
   "execution_count": 27,
   "metadata": {},
   "outputs": [
    {
     "output_type": "execute_result",
     "data": {
      "text/plain": [
       "True"
      ]
     },
     "metadata": {},
     "execution_count": 27
    }
   ],
   "source": [
    "class Tree:\n",
    "    def __init__(self, value=None, left=None, right=None):\n",
    "        self.left = left\n",
    "        self.right = right\n",
    "        self.value = value\n",
    "        \n",
    "    def __iter__(self):\n",
    "        if self.left:\n",
    "            for k in self.left:\n",
    "                yield k\n",
    "        if (not self.left and not self.right):\n",
    "            yield self.value\n",
    "        if self.right:\n",
    "            for k in self.right:\n",
    "                yield k\n",
    "    \n",
    "    def __str__(self):\n",
    "        string = str(self.value)\n",
    "        if(self.left):\n",
    "            string += ' ' + self.left.__str__()\n",
    "\n",
    "        if(self.right):\n",
    "            string += ' ' + self.right.__str__()      \n",
    "        return string\n",
    "    \n",
    "    def __repr__(self):\n",
    "        if(self.left):\n",
    "            return f\"Tree({self.value}, None, {self.right.__repr__()})\"\n",
    "\n",
    "        if(self.right):\n",
    "            return f\"Tree({self.value}, {self.left.__repr__()}, None)\"\n",
    "        \n",
    "        if(not self.left and not self.right):\n",
    "            return f\"Tree({self.value})\"\n",
    "\n",
    "        return f\"Tree({self.value}, {self.left.__repr__()}, {self.right.__repr__()})\"\n",
    "    \n",
    "tree = Tree(0, Tree(1, Tree(3), Tree(4)),                             \n",
    "               Tree(2))\n",
    "\n",
    "list(tree) == [3, 4, 2]"
   ]
  },
  {
   "cell_type": "code",
   "execution_count": 28,
   "metadata": {},
   "outputs": [
    {
     "output_type": "stream",
     "name": "stdout",
     "text": [
      "0 1 3 4 2\n"
     ]
    }
   ],
   "source": [
    "print(tree)"
   ]
  },
  {
   "cell_type": "markdown",
   "metadata": {},
   "source": [
    "# Задание 4\n",
    "\n",
    "Реализовать простейший калькулятор математических выражений:\n",
    "- только целые числа\n",
    "- **+**, **\\-**, **\\***, **\\**\n",
    "- скобки\n",
    "\n",
    "**Можно использовать регулярные выражения**"
   ]
  },
  {
   "cell_type": "code",
   "execution_count": 29,
   "metadata": {},
   "outputs": [
    {
     "output_type": "execute_result",
     "data": {
      "text/plain": [
       "True"
      ]
     },
     "metadata": {},
     "execution_count": 29
    }
   ],
   "source": [
    "import re\n",
    "\n",
    "def calc_basic_str(char_list):\n",
    "    result = 0\n",
    "    s = ''.join(char_list)\n",
    "    prep_list = re.split('(\\+|\\-|\\*|\\/)', s)\n",
    "    operations = {\n",
    "        \"+\": lambda x, y: x + y,\n",
    "        \"-\": lambda x, y: x - y,\n",
    "        \"*\": lambda x, y: x * y,\n",
    "        \"/\": lambda x, y: x / y\n",
    "    }\n",
    "    operations_order = ['*', '/', '-', '+']\n",
    "    for operation in operations_order:\n",
    "        new_prep_list = []\n",
    "        for i in range(len(prep_list)):\n",
    "            if i==len(prep_list):\n",
    "                break\n",
    "            if (prep_list[i]==operation):\n",
    "                new_prep_list.pop()\n",
    "                new_prep_list.append(operations[operation](int(prep_list[i-1]), int(prep_list[i+1])))\n",
    "                del prep_list[i+1]\n",
    "            else: \n",
    "                new_prep_list.append(prep_list[i])\n",
    "        prep_list = new_prep_list\n",
    "    return prep_list[0]\n",
    "\n",
    "def calc(expr):\n",
    "    symbols = []\n",
    "    for char in expr:\n",
    "        if(char!=' '):\n",
    "            symbols.append(char)\n",
    "    left_brackets_ind = [i for i, j in enumerate(symbols) if j == '(']\n",
    "    right_brackets_ind = [i for i, j in enumerate(symbols) if j == ')']\n",
    "\n",
    "    for i in range(len(left_brackets_ind)):\n",
    "        new_symbols = symbols[0:left_brackets_ind[i]] + [str(calc_basic_str(symbols[left_brackets_ind[i] + 1 :right_brackets_ind[-i]]))]+symbols[right_brackets_ind[-i] + 1 :]\n",
    "    return calc_basic_str(new_symbols)\n",
    "        \n",
    "calc('2 * (15 - 3 * 4) - 2') == 4"
   ]
  },
  {
   "cell_type": "code",
   "execution_count": null,
   "metadata": {
    "collapsed": true,
    "jupyter": {
     "outputs_hidden": true
    }
   },
   "outputs": [],
   "source": []
  }
 ],
 "metadata": {
  "kernelspec": {
   "display_name": "Python 3",
   "language": "python",
   "name": "python3"
  },
  "language_info": {
   "codemirror_mode": {
    "name": "ipython",
    "version": 3
   },
   "file_extension": ".py",
   "mimetype": "text/x-python",
   "name": "python",
   "nbconvert_exporter": "python",
   "pygments_lexer": "ipython3",
   "version": "3.7.6-final"
  }
 },
 "nbformat": 4,
 "nbformat_minor": 4
}